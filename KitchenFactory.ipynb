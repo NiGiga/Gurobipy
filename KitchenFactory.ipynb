{
 "cells": [
  {
   "metadata": {},
   "cell_type": "markdown",
   "source": "",
   "id": "f5def1664093433d"
  },
  {
   "metadata": {},
   "cell_type": "code",
   "source": [
    "import gurobipy as gp\n",
    "from gurobipy import GRB\n",
    "\n",
    "m = gp.Model(\"KitchenFactory\")\n",
    "\n",
    "kitchen = ['A', 'B', 'C']\n",
    "departments = ['taglio', 'verniciatura', 'montaggio']\n",
    "\n",
    "daily_prod_costs = {'A': 1500, 'B': 2500, 'C': 2000}\n",
    "\n",
    "selling_prices = {'A': 4000, 'B': 7500, 'C': 5000}\n",
    "\n",
    "\n",
    "phone_costs = 150\n",
    "electricity_costs = 125\n",
    "daily_costs = phone_costs+electricity_costs\n",
    "\n",
    "max_wood = 800\n",
    "\n",
    "wood_usage = {'A': 24, 'B': 27, 'C': 23}\n",
    "\n",
    "\n",
    "\n",
    "times = {('A', 'taglio'): 10, ('B', 'taglio'): 30, ('C', 'taglio'): 25,\n",
    "         ('A', 'verniciatura'): 10, ('B', 'verniciatura'): 15, ('C', 'verniciatura'): 10,\n",
    "         ('A', 'montaggio'): 8, ('B', 'montaggio'): 12, ('C', 'montaggio'): 15}\n",
    "\n",
    "max_tme = {'taglio': 20 * 60, 'verniciatura': 18 * 60, 'montaggio': 22 * 60}\n",
    "\n",
    "x = m.addVars(kitchen, name='x', vtype=GRB.INTEGER)\n",
    "\n",
    "\n",
    "m.setObjective((sum(x[j] * (selling_prices[j] - daily_prod_costs[j]) for j in kitchen) - daily_costs), GRB.MAXIMIZE)\n",
    "\n",
    "m.addConstr(x['A'] >= 4)\n",
    "m.addConstr(x['B'] >= 5)\n",
    "m.addConstr(x['C'] >= 6)\n",
    "\n",
    "m.addConstrs((gp.quicksum(x[r] * times[r, m] for r in kitchen) <= max_tme[m] for m in departments), name='workTime')\n",
    "\n",
    "m.addConstr(gp.quicksum(x[j] * wood_usage[j] for j in kitchen ) <= max_wood, name='woodUsage')\n",
    "\n",
    "m.optimize()\n",
    "\n",
    "if m.status == GRB.Status.OPTIMAL:\n",
    "    print('Optimal solution:')\n",
    "    for r in kitchen:\n",
    "        print(f\"{r}: {x[r].X:.0f}\")\n",
    "    print(f\"Profit: {m.ObjVal:.2f}\")\n"
   ],
   "id": "7f50cd22ce17b57",
   "outputs": [],
   "execution_count": null
  }
 ],
 "metadata": {
  "kernelspec": {
   "name": "python3",
   "language": "python",
   "display_name": "Python 3 (ipykernel)"
  }
 },
 "nbformat": 5,
 "nbformat_minor": 9
}
